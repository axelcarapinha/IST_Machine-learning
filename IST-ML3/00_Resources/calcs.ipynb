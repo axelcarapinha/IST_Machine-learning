{
 "cells": [
  {
   "cell_type": "markdown",
   "metadata": {},
   "source": [
    "# Calculating for each sample\n"
   ]
  },
  {
   "cell_type": "code",
   "execution_count": 5,
   "metadata": {},
   "outputs": [
    {
     "name": "stdout",
     "output_type": "stream",
     "text": [
      "train size: 898 \n",
      "test size: 899\n"
     ]
    },
    {
     "name": "stderr",
     "output_type": "stream",
     "text": [
      "/home/heyuser/miniconda3/envs/myenv/lib/python3.9/site-packages/sklearn/neural_network/_multilayer_perceptron.py:690: ConvergenceWarning: Stochastic Optimizer: Maximum iterations (2000) reached and the optimization hasn't converged yet.\n",
      "  warnings.warn(\n"
     ]
    },
    {
     "name": "stdout",
     "output_type": "stream",
     "text": [
      "accuracy on testing set (MLPclassifier): 0.9733\n"
     ]
    },
    {
     "data": {
      "image/png": "[encoded data removed]",
      "text/plain": [
       "<Figure size 640x480 with 1 Axes>"
      ]
     },
     "metadata": {},
     "output_type": "display_data"
    },
    {
     "name": "stdout",
     "output_type": "stream",
     "text": [
      "Final loss curve value:  0.12656290014396887\n"
     ]
    }
   ],
   "source": [
    "import matplotlib.pyplot as plt\n",
    "from sklearn import metrics, datasets, tree\n",
    "from sklearn.model_selection import train_test_split\n",
    "\n",
    "# Custom data\n",
    "gn = 9\n",
    "\n",
    "# 1. load \n",
    "dt = datasets.load_digits() \n",
    "X, y = dt.data, dt.target\n",
    "\n",
    "#from sklearn.datasets import fetch_openml\n",
    "#mnist = fetch_openml('mnist_784')\n",
    "\n",
    "# partition data with train_test_split\n",
    "\n",
    "from sklearn.model_selection import train_test_split\n",
    "X_train, X_test, y_train, y_test = train_test_split(X, y, train_size=0.5,stratify=y,random_state=gn)\n",
    "\n",
    "\n",
    "print(\"train size:\",len(X_train),\"\\ntest size:\",len(X_test))\n",
    "\n",
    "\n",
    "\n",
    "# 2.1 learn classifier\n",
    "# from sklearn.linear_model import LogisticRegression\n",
    "\n",
    "# predictor = LogisticRegression(max_iter=2000) \n",
    "# predictor.fit(X_train, y_train)\n",
    "\n",
    "# y_pred = predictor.predict(X_test)\n",
    "# print(\"accuracy on testing set (LogR):\",  round(metrics.accuracy_score(y_test, y_pred),2))\n",
    "\n",
    "\n",
    "\n",
    "# 2.2 learn classifier\n",
    "from sklearn.neural_network import MLPClassifier\n",
    "\n",
    "predictor = MLPClassifier(hidden_layer_sizes=(64, 32),random_state=9,activation ='logistic',solver='sgd',max_iter=2000)\n",
    "#predictor = MLPClassifier(random_state=42)\n",
    "predictor.fit(X_train, y_train)\n",
    "\n",
    "y_pred = predictor.predict(X_test)\n",
    "print(\"accuracy on testing set (MLPclassifier):\",  round(metrics.accuracy_score(y_test, y_pred),4))\n",
    "\n",
    "\n",
    "# 3. Plot the loss curve\n",
    "plt.plot(predictor.loss_curve_)\n",
    "plt.title(\"Loss Curve\", fontsize=14)\n",
    "plt.xlabel('Iterations')\n",
    "plt.ylabel('Cost')\n",
    "plt.show()\n",
    "\n",
    "# \n",
    "print(\"Final loss curve value: \", predictor.loss_curve_[-1])"
   ]
  },
  {
   "cell_type": "markdown",
   "metadata": {},
   "source": [
    "## Software a) - calculating best number of layers"
   ]
  },
  {
   "cell_type": "code",
   "execution_count": null,
   "metadata": {},
   "outputs": [
    {
     "name": "stderr",
     "output_type": "stream",
     "text": [
      "/home/heyuser/miniconda3/envs/myenv/lib/python3.9/site-packages/tqdm/auto.py:21: TqdmWarning: IProgress not found. Please update jupyter and ipywidgets. See https://ipywidgets.readthedocs.io/en/stable/user_install.html\n",
      "  from .autonotebook import tqdm as notebook_tqdm\n",
      "[I 2024-10-10 15:20:45,719] A new study created in memory with name: no-name-20184c6f-11f3-4008-914b-6fd22c7471fe\n"
     ]
    },
    {
     "name": "stdout",
     "output_type": "stream",
     "text": [
      "Train size: 898 \n",
      "Test size: 899\n"
     ]
    },
    {
     "name": "stderr",
     "output_type": "stream",
     "text": [
      "[I 2024-10-10 15:20:46,619] Trial 0 finished with value: 0.10122358175750834 and parameters: {'n_layers': 4, 'n_units_layer_0': 50, 'n_units_layer_1': 97, 'n_units_layer_2': 23, 'n_units_layer_3': 128}. Best is trial 0 with value: 0.10122358175750834.\n",
      "/home/heyuser/miniconda3/envs/myenv/lib/python3.9/site-packages/sklearn/neural_network/_multilayer_perceptron.py:697: UserWarning: Training interrupted by user.\n",
      "  warnings.warn(\"Training interrupted by user.\")\n",
      "[I 2024-10-10 15:21:13,952] Trial 1 finished with value: 0.9688542825361512 and parameters: {'n_layers': 2, 'n_units_layer_0': 102, 'n_units_layer_1': 118}. Best is trial 1 with value: 0.9688542825361512.\n",
      "[I 2024-10-10 15:21:15,066] Trial 2 finished with value: 0.10122358175750834 and parameters: {'n_layers': 3, 'n_units_layer_0': 44, 'n_units_layer_1': 52, 'n_units_layer_2': 17}. Best is trial 1 with value: 0.9688542825361512.\n",
      "[I 2024-10-10 15:21:16,219] Trial 3 finished with value: 0.10233592880978866 and parameters: {'n_layers': 4, 'n_units_layer_0': 50, 'n_units_layer_1': 40, 'n_units_layer_2': 99, 'n_units_layer_3': 85}. Best is trial 1 with value: 0.9688542825361512.\n",
      "[I 2024-10-10 15:21:30,082] Trial 4 finished with value: 0.9777530589543938 and parameters: {'n_layers': 1, 'n_units_layer_0': 126}. Best is trial 4 with value: 0.9777530589543938.\n",
      "[I 2024-10-10 15:21:30,969] Trial 5 finished with value: 0.10122358175750834 and parameters: {'n_layers': 4, 'n_units_layer_0': 37, 'n_units_layer_1': 40, 'n_units_layer_2': 70, 'n_units_layer_3': 110}. Best is trial 4 with value: 0.9777530589543938.\n",
      "[I 2024-10-10 15:21:40,218] Trial 6 finished with value: 0.9666295884315906 and parameters: {'n_layers': 1, 'n_units_layer_0': 16}. Best is trial 4 with value: 0.9777530589543938.\n",
      "[I 2024-10-10 15:21:52,219] Trial 7 finished with value: 0.9799777530589544 and parameters: {'n_layers': 1, 'n_units_layer_0': 103}. Best is trial 7 with value: 0.9799777530589544.\n",
      "[I 2024-10-10 15:22:01,811] Trial 8 finished with value: 0.9744160177975528 and parameters: {'n_layers': 1, 'n_units_layer_0': 36}. Best is trial 7 with value: 0.9799777530589544.\n"
     ]
    }
   ],
   "source": [
    "# Code with optuna\n",
    "\n",
    "\n",
    "import matplotlib.pyplot as plt\n",
    "from sklearn import metrics, datasets\n",
    "from sklearn.model_selection import train_test_split\n",
    "from sklearn.neural_network import MLPClassifier\n",
    "import optuna\n",
    "\n",
    "# Custom data\n",
    "gn = 9\n",
    "\n",
    "# 1. Load data (digits dataset)\n",
    "dt = datasets.load_digits() \n",
    "X, y = dt.data, dt.target\n",
    "\n",
    "# Partition data with train_test_split\n",
    "X_train, X_test, y_train, y_test = train_test_split(X, y, train_size=0.5, stratify=y, random_state=gn)\n",
    "print(\"Train size:\", len(X_train), \"\\nTest size:\", len(X_test))\n",
    "\n",
    "# Define the objective function for Bayesian Optimization\n",
    "def objective(trial):\n",
    "    # Sample the number of hidden layers and their sizes\n",
    "    n_layers = trial.suggest_int('n_layers', 1, 5)  # Number of hidden layers between 1 and 5\n",
    "    layer_sizes = []\n",
    "    \n",
    "    for i in range(n_layers):\n",
    "        layer_size = trial.suggest_int(f'n_units_layer_{i}', 16, 128)  # Size of each hidden layer between 16 and 128\n",
    "        layer_sizes.append(layer_size)\n",
    "    \n",
    "    # Define the MLPClassifier with the sampled hidden layer sizes\n",
    "    predictor = MLPClassifier(hidden_layer_sizes=tuple(layer_sizes), \n",
    "                              random_state=9, \n",
    "                              activation='logistic', \n",
    "                              solver='sgd', \n",
    "                              max_iter=2000)\n",
    "\n",
    "    # Fit the classifier\n",
    "    predictor.fit(X_train, y_train)\n",
    "    \n",
    "    # Predict on the test set and calculate accuracy\n",
    "    y_pred = predictor.predict(X_test)\n",
    "    accuracy = metrics.accuracy_score(y_test, y_pred)\n",
    "    \n",
    "    return accuracy\n",
    "\n",
    "# Set up Bayesian Optimization using Optuna\n",
    "study = optuna.create_study(direction='maximize')  # We want to maximize the accuracy\n",
    "study.optimize(objective, n_trials=30)  # Perform 30 trials\n",
    "\n",
    "# Output the best parameters and the best score\n",
    "print(f\"Best parameters: {study.best_params}\")\n",
    "print(f\"Best accuracy from optimization: {study.best_value:.4f}\")\n",
    "\n",
    "# Train the best model with the optimized parameters\n",
    "best_params = study.best_params\n",
    "best_layer_sizes = [best_params[f'n_units_layer_{i}'] for i in range(best_params['n_layers'])]\n",
    "\n",
    "best_model = MLPClassifier(hidden_layer_sizes=tuple(best_layer_sizes),\n",
    "                           random_state=9,\n",
    "                           activation='logistic',\n",
    "                           solver='sgd',\n",
    "                           max_iter=2000)\n",
    "\n",
    "best_model.fit(X_train, y_train)\n",
    "y_pred = best_model.predict(X_test)\n",
    "\n",
    "# 2.2 Print the final accuracy\n",
    "print(\"Accuracy on testing set (Optimized MLPClassifier):\", round(metrics.accuracy_score(y_test, y_pred), 4))\n",
    "\n",
    "# 3. Plot the loss curve\n",
    "plt.plot(best_model.loss_curve_)\n",
    "plt.title(\"Loss Curve (Optimized Model)\", fontsize=14)\n",
    "plt.xlabel('Iterations')\n",
    "plt.ylabel('Cost')\n",
    "plt.show()\n",
    "\n",
    "# Print the final loss curve value\n",
    "print(\"Final loss curve value (Optimized Model):\", best_model.loss_curve_[-1])"
   ]
  },
  {
   "cell_type": "markdown",
   "metadata": {},
   "source": [
    "## Software b) - calculating for the best "
   ]
  }
 ],
 "metadata": {
  "kernelspec": {
   "display_name": "myenv",
   "language": "python",
   "name": "python3"
  },
  "language_info": {
   "codemirror_mode": {
    "name": "ipython",
    "version": 3
   },
   "file_extension": ".py",
   "mimetype": "text/x-python",
   "name": "python",
   "nbconvert_exporter": "python",
   "pygments_lexer": "ipython3",
   "version": "3.9.19"
  }
 },
 "nbformat": 4,
 "nbformat_minor": 2
}
