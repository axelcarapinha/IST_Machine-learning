{
 "cells": [
  {
   "cell_type": "markdown",
   "metadata": {},
   "source": [
    "# H3, Perceptron and NN"
   ]
  },
  {
   "cell_type": "code",
   "execution_count": 2,
   "metadata": {},
   "outputs": [
    {
     "name": "stdout",
     "output_type": "stream",
     "text": [
      "train size: 898 \n",
      "test size: 899\n"
     ]
    }
   ],
   "source": [
    "import matplotlib.pyplot as plt\n",
    "from sklearn import metrics, datasets, tree\n",
    "from sklearn.model_selection import train_test_split\n",
    "\n",
    "# Custom data\n",
    "gn = 9\n",
    "\n",
    "# 1. load \n",
    "dt = datasets.load_digits() \n",
    "X, y = dt.data, dt.target\n",
    "\n",
    "#from sklearn.datasets import fetch_openml\n",
    "#mnist = fetch_openml('mnist_784')\n",
    "\n",
    "# partition data with train_test_split\n",
    "\n",
    "from sklearn.model_selection import train_test_split\n",
    "X_train, X_test, y_train, y_test = train_test_split(X, y, train_size=0.5,stratify=y,random_state=gn)\n",
    "\n",
    "\n",
    "print(\"train size:\",len(X_train),\"\\ntest size:\",len(X_test))"
   ]
  },
  {
   "cell_type": "code",
   "execution_count": 3,
   "metadata": {},
   "outputs": [
    {
     "name": "stdout",
     "output_type": "stream",
     "text": [
      "accuracy on testing set: 0.97\n"
     ]
    }
   ],
   "source": [
    "# 2. learn classifier\n",
    "from sklearn.linear_model import LogisticRegression\n",
    "\n",
    "predictor = LogisticRegression(max_iter=2000) \n",
    "predictor.fit(X_train, y_train)\n",
    "\n",
    "y_pred = predictor.predict(X_test)\n",
    "print(\"accuracy on testing set:\",  round(metrics.accuracy_score(y_test, y_pred),2))\n"
   ]
  },
  {
   "cell_type": "markdown",
   "metadata": {},
   "source": [
    "hidden_layer_sizes : This parameter allows us to set the number of layers and the number of nodes we wish to have in the Neural Network Classifier. Each element in the tuple represents the number of nodes at the ith position where i is the index of the tuple. Thus the length of tuple denotes the total number of hidden layers in the network.\n",
    "\n",
    "max_iter: It denotes the number of epochs."
   ]
  },
  {
   "cell_type": "code",
   "execution_count": 5,
   "metadata": {},
   "outputs": [
    {
     "name": "stdout",
     "output_type": "stream",
     "text": [
      "accuracy on testing set: 0.624\n"
     ]
    },
    {
     "name": "stderr",
     "output_type": "stream",
     "text": [
      "/home/heyuser/miniconda3/envs/myenv/lib/python3.9/site-packages/sklearn/neural_network/_multilayer_perceptron.py:690: ConvergenceWarning: Stochastic Optimizer: Maximum iterations (2000) reached and the optimization hasn't converged yet.\n",
      "  warnings.warn(\n"
     ]
    }
   ],
   "source": [
    "# 2. learn classifier\n",
    "from sklearn.neural_network import MLPClassifier\n",
    "\n",
    "predictor = MLPClassifier(hidden_layer_sizes=(10,4),random_state=9,activation ='logistic',solver='sgd',max_iter=2000)\n",
    "#predictor = MLPClassifier(random_state=42)\n",
    "predictor.fit(X_train, y_train)\n",
    "\n",
    "y_pred = predictor.predict(X_test)\n",
    "print(\"accuracy on testing set:\",  round(metrics.accuracy_score(y_test, y_pred),4))"
   ]
  },
  {
   "cell_type": "markdown",
   "metadata": {},
   "source": [
    "Loss curve plots the training  error (y-axis) over the training set size (x-axis). "
   ]
  },
  {
   "cell_type": "code",
   "execution_count": 7,
   "metadata": {},
   "outputs": [
    {
     "ename": "NameError",
     "evalue": "name 'predictor1' is not defined",
     "output_type": "error",
     "traceback": [
      "\u001b[0;31m---------------------------------------------------------------------------\u001b[0m",
      "\u001b[0;31mNameError\u001b[0m                                 Traceback (most recent call last)",
      "Cell \u001b[0;32mIn[7], line 12\u001b[0m\n\u001b[1;32m      8\u001b[0m \u001b[38;5;28;01mimport\u001b[39;00m \u001b[38;5;21;01mmatplotlib\u001b[39;00m\u001b[38;5;21;01m.\u001b[39;00m\u001b[38;5;21;01mpyplot\u001b[39;00m \u001b[38;5;28;01mas\u001b[39;00m \u001b[38;5;21;01mplt\u001b[39;00m\n\u001b[1;32m     10\u001b[0m \u001b[38;5;66;03m# Assuming predictor1 and predictor2 are two models with loss curves\u001b[39;00m\n\u001b[0;32m---> 12\u001b[0m plt\u001b[38;5;241m.\u001b[39mplot(\u001b[43mpredictor1\u001b[49m\u001b[38;5;241m.\u001b[39mloss_curve_, label\u001b[38;5;241m=\u001b[39m\u001b[38;5;124m'\u001b[39m\u001b[38;5;124mModel 1\u001b[39m\u001b[38;5;124m'\u001b[39m)  \u001b[38;5;66;03m# Plot the loss curve for the first model\u001b[39;00m\n\u001b[1;32m     13\u001b[0m plt\u001b[38;5;241m.\u001b[39mplot(predictor2\u001b[38;5;241m.\u001b[39mloss_curve_, label\u001b[38;5;241m=\u001b[39m\u001b[38;5;124m'\u001b[39m\u001b[38;5;124mModel 2\u001b[39m\u001b[38;5;124m'\u001b[39m)  \u001b[38;5;66;03m# Plot the loss curve for the second model\u001b[39;00m\n\u001b[1;32m     15\u001b[0m \u001b[38;5;66;03m# Adding labels and title\u001b[39;00m\n",
      "\u001b[0;31mNameError\u001b[0m: name 'predictor1' is not defined"
     ]
    }
   ],
   "source": [
    "# plt.plot(predictor.loss_curve_)\n",
    "# plt.title(\"Loss Curve\", fontsize=14)\n",
    "# plt.xlabel('Iterations')\n",
    "# plt.ylabel('Cost')\n",
    "# plt.show()\n",
    "\n",
    "\n",
    "import matplotlib.pyplot as plt\n",
    "\n",
    "# Assuming predictor1 and predictor2 are two models with loss curves\n",
    "\n",
    "plt.plot(predictor1.loss_curve_, label='Model 1')  # Plot the loss curve for the first model\n",
    "plt.plot(predictor2.loss_curve_, label='Model 2')  # Plot the loss curve for the second model\n",
    "\n",
    "# Adding labels and title\n",
    "plt.title(\"Loss Curve Comparison\", fontsize=14)\n",
    "plt.xlabel('Iterations')\n",
    "plt.ylabel('Cost')\n",
    "\n",
    "# Adding a legend to differentiate between the two models\n",
    "plt.legend()\n",
    "\n",
    "# Display the plot\n",
    "plt.show()\n"
   ]
  }
 ],
 "metadata": {
  "kernelspec": {
   "display_name": "myenv",
   "language": "python",
   "name": "python3"
  },
  "language_info": {
   "codemirror_mode": {
    "name": "ipython",
    "version": 3
   },
   "file_extension": ".py",
   "mimetype": "text/x-python",
   "name": "python",
   "nbconvert_exporter": "python",
   "pygments_lexer": "ipython3",
   "version": "3.9.19"
  },
  "orig_nbformat": 4
 },
 "nbformat": 4,
 "nbformat_minor": 2
}
