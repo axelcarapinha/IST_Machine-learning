{
 "cells": [
  {
   "cell_type": "markdown",
   "metadata": {},
   "source": [
    "# Regression"
   ]
  },
  {
   "cell_type": "markdown",
   "metadata": {},
   "source": [
    "### 1) Regression models\n",
    "\n",
    "We use the california_housing data set\n",
    "\n",
    "https://scikit-learn.org/stable/modules/generated/sklearn.datasets.fetch_california_housing.html"
   ]
  },
  {
   "cell_type": "code",
   "execution_count": 1,
   "metadata": {},
   "outputs": [
    {
     "data": {
      "text/plain": [
       "['MedInc',\n",
       " 'HouseAge',\n",
       " 'AveRooms',\n",
       " 'AveBedrms',\n",
       " 'Population',\n",
       " 'AveOccup',\n",
       " 'Latitude',\n",
       " 'Longitude']"
      ]
     },
     "execution_count": 1,
     "metadata": {},
     "output_type": "execute_result"
    }
   ],
   "source": [
    "from sklearn import datasets\n",
    "import pandas as pd, numpy as np, math\n",
    "\n",
    "from sklearn.datasets import fetch_california_housing\n",
    "housing = fetch_california_housing()\n",
    "\n",
    "housing.feature_names"
   ]
  },
  {
   "cell_type": "code",
   "execution_count": 2,
   "metadata": {},
   "outputs": [
    {
     "data": {
      "text/plain": [
       "['MedHouseVal']"
      ]
     },
     "execution_count": 2,
     "metadata": {},
     "output_type": "execute_result"
    }
   ],
   "source": [
    "housing.target_names"
   ]
  },
  {
   "cell_type": "markdown",
   "metadata": {},
   "source": [
    "Let us now split data for evaluation purposes"
   ]
  },
  {
   "cell_type": "code",
   "execution_count": 3,
   "metadata": {},
   "outputs": [
    {
     "name": "stdout",
     "output_type": "stream",
     "text": [
      "train: (14448, 8) \n",
      "test: (6192, 8)\n"
     ]
    }
   ],
   "source": [
    "from sklearn.model_selection import train_test_split\n",
    "\n",
    "X, y = housing.data, housing.target\n",
    "X_train, X_test, y_train, y_test = train_test_split(X, y, test_size=0.30, random_state=40)\n",
    "print(\"train:\",X_train.shape,\"\\ntest:\",X_test.shape)"
   ]
  },
  {
   "cell_type": "markdown",
   "metadata": {},
   "source": [
    "**Classic linear regression models**"
   ]
  },
  {
   "cell_type": "code",
   "execution_count": 4,
   "metadata": {},
   "outputs": [],
   "source": [
    "from sklearn.linear_model import LinearRegression, Ridge, Lasso"
   ]
  },
  {
   "cell_type": "code",
   "execution_count": 5,
   "metadata": {},
   "outputs": [
    {
     "name": "stdout",
     "output_type": "stream",
     "text": [
      "intercept: -37.5063422002079\n",
      "coefficients: [ 4.30148066e-01  9.14733959e-03 -9.46280265e-02  5.67201956e-01\n",
      " -4.26556293e-06 -4.00360525e-03 -4.30475904e-01 -4.42334906e-01]\n"
     ]
    }
   ],
   "source": [
    "lr = LinearRegression()\n",
    "lr.fit(X_train, y_train)\n",
    "print(\"intercept:\",lr.intercept_)\n",
    "print(\"coefficients:\",lr.coef_)"
   ]
  },
  {
   "cell_type": "code",
   "execution_count": 6,
   "metadata": {},
   "outputs": [
    {
     "name": "stdout",
     "output_type": "stream",
     "text": [
      "reference:\n",
      " [1.143 0.754 1.287 0.815 1.228 2.275 1.094 1.25  0.723 1.938 2.905 0.731\n",
      " 2.01  4.727 0.851 2.298 2.945 1.266 1.58  4.384] \n",
      "\n",
      "predictions:\n",
      " [1.46684622 1.00221756 1.44822569 1.07324835 1.32548257 2.64388554\n",
      " 1.808963   1.94582622 1.07263716 2.63188889 2.54352473 0.49951625\n",
      " 2.4649375  3.66704643 0.14847506 2.26214805 2.51135439 1.3442272\n",
      " 1.70481704 3.37817858]\n"
     ]
    }
   ],
   "source": [
    "from sklearn import metrics\n",
    "\n",
    "pred_train_lr= lr.predict(X_train)\n",
    "print(\"reference:\\n\",y_train[0:20],\"\\n\\npredictions:\\n\",pred_train_lr[0:20])"
   ]
  },
  {
   "cell_type": "code",
   "execution_count": 7,
   "metadata": {},
   "outputs": [
    {
     "name": "stdout",
     "output_type": "stream",
     "text": [
      "Training RMSE: 0.7175122020184264\n",
      "Training R2: 0.6109534632719813\n"
     ]
    }
   ],
   "source": [
    "print(\"Training RMSE:\",np.sqrt(metrics.mean_squared_error(y_train,pred_train_lr)))\n",
    "print(\"Training R2:\",metrics.r2_score(y_train, pred_train_lr))"
   ]
  },
  {
   "cell_type": "code",
   "execution_count": 8,
   "metadata": {},
   "outputs": [
    {
     "name": "stdout",
     "output_type": "stream",
     "text": [
      "RMSE (no regularization): 0.739948774053579\n",
      "R2 (no regularization): 0.5944602625172059\n"
     ]
    }
   ],
   "source": [
    "pred_test_lr= lr.predict(X_test)\n",
    "print(\"RMSE (no regularization):\",np.sqrt(metrics.mean_squared_error(y_test,pred_test_lr))) \n",
    "print(\"R2 (no regularization):\",metrics.r2_score(y_test, pred_test_lr))"
   ]
  },
  {
   "cell_type": "code",
   "execution_count": 9,
   "metadata": {},
   "outputs": [
    {
     "name": "stdout",
     "output_type": "stream",
     "text": [
      "RMSE (Ridge): 0.7399488885097063\n",
      "R2 (Ridge): 0.5944601370584901\n"
     ]
    }
   ],
   "source": [
    "rr = Ridge(alpha=0.01)\n",
    "rr.fit(X_train, y_train) \n",
    "pred_test_rr= rr.predict(X_test)\n",
    "print(\"RMSE (Ridge):\",np.sqrt(metrics.mean_squared_error(y_test,pred_test_rr))) \n",
    "print(\"R2 (Ridge):\",metrics.r2_score(y_test, pred_test_rr))"
   ]
  },
  {
   "cell_type": "code",
   "execution_count": 10,
   "metadata": {},
   "outputs": [
    {
     "name": "stdout",
     "output_type": "stream",
     "text": [
      "RMSE (Lasso): 0.7457805408296869\n",
      "R2 (Lasso): 0.588042702401081\n"
     ]
    }
   ],
   "source": [
    "model_lasso = Lasso(alpha=0.01)\n",
    "model_lasso.fit(X_train, y_train) \n",
    "pred_test_lasso= model_lasso.predict(X_test)\n",
    "print(\"RMSE (Lasso):\",np.sqrt(metrics.mean_squared_error(y_test,pred_test_lasso))) \n",
    "print(\"R2 (Lasso):\",metrics.r2_score(y_test, pred_test_lasso))"
   ]
  },
  {
   "cell_type": "markdown",
   "metadata": {},
   "source": [
    "**Cross-validation** (identical to our previous notebook)"
   ]
  },
  {
   "cell_type": "code",
   "execution_count": 11,
   "metadata": {},
   "outputs": [
    {
     "data": {
      "text/plain": [
       "array([0.48254494, 0.61416063, 0.42274892, 0.48178521, 0.55705986,\n",
       "       0.5412919 , 0.47496038, 0.45844938, 0.48177943, 0.59528796])"
      ]
     },
     "execution_count": 11,
     "metadata": {},
     "output_type": "execute_result"
    }
   ],
   "source": [
    "from sklearn.model_selection import cross_val_score\n",
    "regressor = LinearRegression()\n",
    "cross_val_score(regressor, X, y, cv=10)"
   ]
  },
  {
   "cell_type": "markdown",
   "metadata": {},
   "source": [
    "### 2) Evaluation"
   ]
  },
  {
   "cell_type": "markdown",
   "metadata": {},
   "source": [
    "Let us recover our linear model for residual analysis on the testing set"
   ]
  },
  {
   "cell_type": "code",
   "execution_count": 12,
   "metadata": {},
   "outputs": [
    {
     "name": "stdout",
     "output_type": "stream",
     "text": [
      "RMSE: 0.739948774053579\n",
      "MAE: 0.5424799334532462\n",
      "Train R2: 0.5944602625172059\n",
      "Test R2: 0.5944602625172059\n"
     ]
    }
   ],
   "source": [
    "y_true, y_pred = y_test, pred_test_lr\n",
    "print(\"RMSE:\",np.sqrt(metrics.mean_squared_error(y_true, y_pred)))\n",
    "print(\"MAE:\",metrics.mean_absolute_error(y_true, y_pred))\n",
    "print(\"Train R2:\",metrics.r2_score(y_true, y_pred))\n",
    "print(\"Test R2:\",metrics.r2_score(y_true, y_pred))"
   ]
  },
  {
   "cell_type": "markdown",
   "metadata": {},
   "source": [
    "Let us recover our linear model for residual analysis on CV folds"
   ]
  },
  {
   "cell_type": "code",
   "execution_count": 13,
   "metadata": {},
   "outputs": [
    {
     "name": "stdout",
     "output_type": "stream",
     "text": [
      "MSE: 0.5509524296956638\n",
      "MAE: 0.5445214393268031\n",
      "Max error: 4.616528138757749\n",
      "Test R2: 0.5110068610523769\n"
     ]
    }
   ],
   "source": [
    "regressor = LinearRegression()\n",
    "print(\"MSE:\",-np.mean(cross_val_score(regressor, X, y, cv=10, scoring='neg_mean_squared_error')))\n",
    "print(\"MAE:\",-np.mean(cross_val_score(regressor, X, y, cv=10, scoring='neg_mean_absolute_error')))\n",
    "print(\"Max error:\",-np.mean(cross_val_score(regressor, X, y, cv=10, scoring='max_error')))\n",
    "print(\"Test R2:\",np.mean(cross_val_score(regressor, X, y, cv=10, scoring='r2')))"
   ]
  },
  {
   "cell_type": "code",
   "execution_count": 14,
   "metadata": {},
   "outputs": [
    {
     "data": {
      "text/plain": [
       "0.5944602625172059"
      ]
     },
     "execution_count": 14,
     "metadata": {},
     "output_type": "execute_result"
    }
   ],
   "source": [
    "metrics.r2_score(y_true, y_pred) #R2 on testing set"
   ]
  },
  {
   "cell_type": "markdown",
   "metadata": {},
   "source": [
    "### 3) Regression over mixed data"
   ]
  },
  {
   "cell_type": "markdown",
   "metadata": {},
   "source": [
    "**Loading** case dataset"
   ]
  },
  {
   "cell_type": "code",
   "execution_count": 15,
   "metadata": {},
   "outputs": [
    {
     "name": "stdout",
     "output_type": "stream",
     "text": [
      "Number of instances: (200, 4)\n"
     ]
    },
    {
     "data": {
      "text/html": [
       "<div>\n",
       "<style scoped>\n",
       "    .dataframe tbody tr th:only-of-type {\n",
       "        vertical-align: middle;\n",
       "    }\n",
       "\n",
       "    .dataframe tbody tr th {\n",
       "        vertical-align: top;\n",
       "    }\n",
       "\n",
       "    .dataframe thead th {\n",
       "        text-align: right;\n",
       "    }\n",
       "</style>\n",
       "<table border=\"1\" class=\"dataframe\">\n",
       "  <thead>\n",
       "    <tr style=\"text-align: right;\">\n",
       "      <th></th>\n",
       "      <th>TV</th>\n",
       "      <th>Radio</th>\n",
       "      <th>Newspaper</th>\n",
       "      <th>Sales</th>\n",
       "      <th>Size</th>\n",
       "      <th>Area</th>\n",
       "    </tr>\n",
       "  </thead>\n",
       "  <tbody>\n",
       "    <tr>\n",
       "      <th>1</th>\n",
       "      <td>230.1</td>\n",
       "      <td>37.8</td>\n",
       "      <td>69.2</td>\n",
       "      <td>22.1</td>\n",
       "      <td>large</td>\n",
       "      <td>urban</td>\n",
       "    </tr>\n",
       "    <tr>\n",
       "      <th>2</th>\n",
       "      <td>44.5</td>\n",
       "      <td>39.3</td>\n",
       "      <td>45.1</td>\n",
       "      <td>10.4</td>\n",
       "      <td>large</td>\n",
       "      <td>rural</td>\n",
       "    </tr>\n",
       "    <tr>\n",
       "      <th>3</th>\n",
       "      <td>17.2</td>\n",
       "      <td>45.9</td>\n",
       "      <td>69.3</td>\n",
       "      <td>9.3</td>\n",
       "      <td>small</td>\n",
       "      <td>urban</td>\n",
       "    </tr>\n",
       "    <tr>\n",
       "      <th>4</th>\n",
       "      <td>151.5</td>\n",
       "      <td>41.3</td>\n",
       "      <td>58.5</td>\n",
       "      <td>18.5</td>\n",
       "      <td>large</td>\n",
       "      <td>suburban</td>\n",
       "    </tr>\n",
       "    <tr>\n",
       "      <th>5</th>\n",
       "      <td>180.8</td>\n",
       "      <td>10.8</td>\n",
       "      <td>58.4</td>\n",
       "      <td>12.9</td>\n",
       "      <td>small</td>\n",
       "      <td>rural</td>\n",
       "    </tr>\n",
       "  </tbody>\n",
       "</table>\n",
       "</div>"
      ],
      "text/plain": [
       "      TV  Radio  Newspaper  Sales   Size      Area\n",
       "1  230.1   37.8       69.2   22.1  large     urban\n",
       "2   44.5   39.3       45.1   10.4  large     rural\n",
       "3   17.2   45.9       69.3    9.3  small     urban\n",
       "4  151.5   41.3       58.5   18.5  large  suburban\n",
       "5  180.8   10.8       58.4   12.9  small     rural"
      ]
     },
     "execution_count": 15,
     "metadata": {},
     "output_type": "execute_result"
    }
   ],
   "source": [
    "dataurl = 'https://raw.githubusercontent.com/buruzaemon/me-ml/master/ISLR/Data/Advertising.csv'\n",
    "data = pd.read_csv(dataurl, index_col=0)\n",
    "print(\"Number of instances:\",data.shape)\n",
    "\n",
    "#adding a binary attribute\n",
    "data['Size'] = 'small'\n",
    "mask_large = np.random.rand(len(data)) > 0.5\n",
    "data.loc[mask_large, 'Size'] = 'large'\n",
    "\n",
    "#adding a nominal attribute\n",
    "nums = np.random.rand(len(data))\n",
    "data['Area'] = 'rural'\n",
    "data.loc[(nums > 0.33) & (nums < 0.66), 'Area'] = 'suburban'\n",
    "data.loc[nums > 0.66, 'Area'] = 'urban'\n",
    "\n",
    "data.head()"
   ]
  },
  {
   "cell_type": "markdown",
   "metadata": {},
   "source": [
    "**Visualizing** data (assuming *Sales* is the output variable)"
   ]
  },
  {
   "cell_type": "code",
   "execution_count": 16,
   "metadata": {},
   "outputs": [
    {
     "data": {
      "text/plain": [
       "<AxesSubplot:xlabel='Newspaper', ylabel='Sales'>"
      ]
     },
     "execution_count": 16,
     "metadata": {},
     "output_type": "execute_result"
    },
    {
     "data": {
      "image/png": "[encoded data removed]",
      "text/plain": [
       "<Figure size 720x288 with 3 Axes>"
      ]
     },
     "metadata": {
      "needs_background": "light"
     },
     "output_type": "display_data"
    }
   ],
   "source": [
    "import matplotlib.pyplot as plt\n",
    "fig, axs = plt.subplots(1, 3, sharey=True)\n",
    "data.plot(kind='scatter', x='TV', y='Sales', ax=axs[0], figsize=(10, 4))\n",
    "data.plot(kind='scatter', x='Radio', y='Sales', ax=axs[1])\n",
    "data.plot(kind='scatter', x='Newspaper', y='Sales', ax=axs[2])"
   ]
  },
  {
   "cell_type": "code",
   "execution_count": 17,
   "metadata": {},
   "outputs": [
    {
     "data": {
      "text/plain": [
       "<AxesSubplot:xlabel='Area', ylabel='Sales'>"
      ]
     },
     "execution_count": 17,
     "metadata": {},
     "output_type": "execute_result"
    },
    {
     "data": {
      "image/png": "[encoded data removed]",
      "text/plain": [
       "<Figure size 432x288 with 2 Axes>"
      ]
     },
     "metadata": {
      "needs_background": "light"
     },
     "output_type": "display_data"
    }
   ],
   "source": [
    "import seaborn as sns\n",
    "fig, axs = plt.subplots(1, 2, sharey=True)\n",
    "sns.boxplot(x=\"Size\", y=\"Sales\", data=data, ax=axs[0])\n",
    "sns.boxplot(x=\"Area\", y=\"Sales\", data=data, ax=axs[1])"
   ]
  },
  {
   "cell_type": "markdown",
   "metadata": {},
   "source": [
    "**Preparing data for regressors unable to handle categoric data**:<br>\n",
    "1) binary variables should be maintained (no dummification)<br>\n",
    "2) nominal variables should be mapped into a compact set of binary variables"
   ]
  },
  {
   "cell_type": "code",
   "execution_count": 18,
   "metadata": {},
   "outputs": [
    {
     "data": {
      "text/html": [
       "<div>\n",
       "<style scoped>\n",
       "    .dataframe tbody tr th:only-of-type {\n",
       "        vertical-align: middle;\n",
       "    }\n",
       "\n",
       "    .dataframe tbody tr th {\n",
       "        vertical-align: top;\n",
       "    }\n",
       "\n",
       "    .dataframe thead th {\n",
       "        text-align: right;\n",
       "    }\n",
       "</style>\n",
       "<table border=\"1\" class=\"dataframe\">\n",
       "  <thead>\n",
       "    <tr style=\"text-align: right;\">\n",
       "      <th></th>\n",
       "      <th>TV</th>\n",
       "      <th>Radio</th>\n",
       "      <th>Newspaper</th>\n",
       "      <th>Sales</th>\n",
       "      <th>Size</th>\n",
       "      <th>IsLarge</th>\n",
       "      <th>Area_suburban</th>\n",
       "      <th>Area_urban</th>\n",
       "    </tr>\n",
       "  </thead>\n",
       "  <tbody>\n",
       "    <tr>\n",
       "      <th>1</th>\n",
       "      <td>230.1</td>\n",
       "      <td>37.8</td>\n",
       "      <td>69.2</td>\n",
       "      <td>22.1</td>\n",
       "      <td>large</td>\n",
       "      <td>1</td>\n",
       "      <td>0</td>\n",
       "      <td>1</td>\n",
       "    </tr>\n",
       "    <tr>\n",
       "      <th>2</th>\n",
       "      <td>44.5</td>\n",
       "      <td>39.3</td>\n",
       "      <td>45.1</td>\n",
       "      <td>10.4</td>\n",
       "      <td>large</td>\n",
       "      <td>1</td>\n",
       "      <td>0</td>\n",
       "      <td>0</td>\n",
       "    </tr>\n",
       "    <tr>\n",
       "      <th>3</th>\n",
       "      <td>17.2</td>\n",
       "      <td>45.9</td>\n",
       "      <td>69.3</td>\n",
       "      <td>9.3</td>\n",
       "      <td>small</td>\n",
       "      <td>0</td>\n",
       "      <td>0</td>\n",
       "      <td>1</td>\n",
       "    </tr>\n",
       "    <tr>\n",
       "      <th>4</th>\n",
       "      <td>151.5</td>\n",
       "      <td>41.3</td>\n",
       "      <td>58.5</td>\n",
       "      <td>18.5</td>\n",
       "      <td>large</td>\n",
       "      <td>1</td>\n",
       "      <td>1</td>\n",
       "      <td>0</td>\n",
       "    </tr>\n",
       "    <tr>\n",
       "      <th>5</th>\n",
       "      <td>180.8</td>\n",
       "      <td>10.8</td>\n",
       "      <td>58.4</td>\n",
       "      <td>12.9</td>\n",
       "      <td>small</td>\n",
       "      <td>0</td>\n",
       "      <td>0</td>\n",
       "      <td>0</td>\n",
       "    </tr>\n",
       "  </tbody>\n",
       "</table>\n",
       "</div>"
      ],
      "text/plain": [
       "      TV  Radio  Newspaper  Sales   Size  IsLarge  Area_suburban  Area_urban\n",
       "1  230.1   37.8       69.2   22.1  large        1              0           1\n",
       "2   44.5   39.3       45.1   10.4  large        1              0           0\n",
       "3   17.2   45.9       69.3    9.3  small        0              0           1\n",
       "4  151.5   41.3       58.5   18.5  large        1              1           0\n",
       "5  180.8   10.8       58.4   12.9  small        0              0           0"
      ]
     },
     "execution_count": 18,
     "metadata": {},
     "output_type": "execute_result"
    }
   ],
   "source": [
    "dendata = data.copy()\n",
    "dendata['IsLarge'] = data.Size.map({'small':0, 'large':1})\n",
    "#del dendata['Size']\n",
    "\n",
    "# create 3 dummy variables and then exclude the first dummy column\n",
    "area_dummies = pd.get_dummies(data.Area, prefix='Area').iloc[:,1:]\n",
    "dendata = pd.concat([dendata, area_dummies], axis=1)\n",
    "del dendata['Area']\n",
    "\n",
    "dendata.head()"
   ]
  },
  {
   "cell_type": "markdown",
   "metadata": {},
   "source": [
    "Applying **classic regressors**: nominal data needs to be removed or denormalized"
   ]
  },
  {
   "cell_type": "code",
   "execution_count": 19,
   "metadata": {},
   "outputs": [
    {
     "name": "stdout",
     "output_type": "stream",
     "text": [
      "Intercept: 2.9388893694594014 \n",
      "Coefficients: [ 0.04576465  0.18853002 -0.00103749] \n",
      "R2: 0.8972106381789522\n"
     ]
    }
   ],
   "source": [
    "# removal of categorical variables\n",
    "X_rem, y_rem = data[['TV', 'Radio', 'Newspaper']], data.Sales\n",
    "lm_rem = LinearRegression()\n",
    "lm_rem.fit(X_rem, y_rem)\n",
    "print(\"Intercept:\",lm_rem.intercept_,\"\\nCoefficients:\",lm_rem.coef_,\"\\nR2:\",lm_rem.score(X_rem, y_rem))"
   ]
  },
  {
   "cell_type": "code",
   "execution_count": 20,
   "metadata": {},
   "outputs": [
    {
     "name": "stdout",
     "output_type": "stream",
     "text": [
      "Accuracy in the absence of categorical vars:  0.8853562237979616\n",
      "Accuracy in the presence of categorical vars: 0.8829428540593209\n"
     ]
    }
   ],
   "source": [
    "# inclusion of categorical variables\n",
    "X_all, y_all = dendata[['TV', 'Radio', 'Newspaper', 'IsLarge', 'Area_suburban', 'Area_urban']], dendata.Sales\n",
    "lm_all = LinearRegression()\n",
    "print(\"Accuracy in the absence of categorical vars: \",np.mean(cross_val_score(lm_rem, X_rem, y_rem, cv=10)))\n",
    "print(\"Accuracy in the presence of categorical vars:\",np.mean(cross_val_score(lm_all, X_all, y_all, cv=10)))"
   ]
  },
  {
   "cell_type": "code",
   "execution_count": 21,
   "metadata": {},
   "outputs": [
    {
     "name": "stderr",
     "output_type": "stream",
     "text": [
      "/Users/andreaswichert/miniforge3/lib/python3.9/site-packages/sklearn/base.py:450: UserWarning: X does not have valid feature names, but LinearRegression was fitted with feature names\n",
      "  warnings.warn(\n"
     ]
    },
    {
     "data": {
      "text/plain": [
       "array([12.20266701, 14.60174784])"
      ]
     },
     "execution_count": 21,
     "metadata": {},
     "output_type": "execute_result"
    }
   ],
   "source": [
    "# estimate sales for two real-valued observations\n",
    "lm_rem.predict([[100, 25, 25], [50, 50, 50]])"
   ]
  }
 ],
 "metadata": {
  "kernelspec": {
   "display_name": "Python 3",
   "language": "python",
   "name": "python3"
  },
  "language_info": {
   "codemirror_mode": {
    "name": "ipython",
    "version": 3
   },
   "file_extension": ".py",
   "mimetype": "text/x-python",
   "name": "python",
   "nbconvert_exporter": "python",
   "pygments_lexer": "ipython3",
   "version": "3.9.12"
  }
 },
 "nbformat": 4,
 "nbformat_minor": 4
}
